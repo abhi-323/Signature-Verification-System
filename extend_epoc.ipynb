{
 "cells": [
  {
   "cell_type": "code",
   "execution_count": 8,
   "metadata": {},
   "outputs": [],
   "source": [
    "import os\n",
    "import numpy as np\n",
    "import tensorflow as tf\n",
    "from tensorflow.keras.applications import VGG16\n",
    "from tensorflow.keras.layers import Flatten, Dense\n",
    "from tensorflow.keras.models import Model\n",
    "from tensorflow.keras.optimizers import Adam\n",
    "from tensorflow.keras.preprocessing.image import ImageDataGenerator\n",
    "from tensorflow.keras.models import load_model\n",
    "\n"
   ]
  },
  {
   "cell_type": "code",
   "execution_count": 3,
   "metadata": {},
   "outputs": [
    {
     "name": "stdout",
     "output_type": "stream",
     "text": [
      "Found 5558 images belonging to 2 classes.\n",
      "Found 2010 images belonging to 2 classes.\n"
     ]
    }
   ],
   "source": [
    "# Set up directory paths\n",
    "current_directory = os.getcwd()\n",
    "train_dir = os.path.join(current_directory, \"/home/abhi/MP/sign_data/merged_dataset/Train\")\n",
    "test_dir = os.path.join(current_directory, \"/home/abhi/MP/sign_data/merged_dataset/Test\")\n",
    "\n",
    "# Create ImageDataGenerators\n",
    "train_datagen = ImageDataGenerator(rescale=1./255,\n",
    "                                   rotation_range=40,\n",
    "                                   width_shift_range=0.2,\n",
    "                                   height_shift_range=0.2,\n",
    "                                   shear_range=0.2,\n",
    "                                   zoom_range=0.2,\n",
    "                                   horizontal_flip=True,\n",
    "                                   fill_mode='nearest')\n",
    "\n",
    "test_datagen = ImageDataGenerator(rescale=1./255)\n",
    "\n",
    "# Generate data generators\n",
    "train_generator = train_datagen.flow_from_directory(train_dir,\n",
    "                                                    target_size=(200, 200),\n",
    "                                                    batch_size=64,\n",
    "                                                    class_mode='binary')\n",
    "\n",
    "test_generator = test_datagen.flow_from_directory(test_dir,\n",
    "                                                  target_size=(200, 200),\n",
    "                                                  batch_size=32,\n",
    "                                                  class_mode='binary')"
   ]
  },
  {
   "cell_type": "code",
   "execution_count": 4,
   "metadata": {},
   "outputs": [],
   "source": [
    "# Define the subclassed model\n",
    "class MyModel(tf.keras.Model):\n",
    "    def __init__(self):\n",
    "        super(MyModel, self).__init__()\n",
    "        self.cnn1 = tf.keras.layers.Conv2D(16, (3, 3), activation='relu', input_shape=(200, 200, 3))\n",
    "        self.cnn2 = tf.keras.layers.Conv2D(64, (3, 3), activation='relu')\n",
    "        self.cnn3 = tf.keras.layers.Conv2D(16, (3, 3), activation='relu')\n",
    "        self.flatten = tf.keras.layers.Flatten()\n",
    "        self.dense1 = tf.keras.layers.Dense(512, activation='relu')\n",
    "        self.dense2 = tf.keras.layers.Dense(1, activation='sigmoid')\n",
    "        \n",
    "    def call(self, inputs):\n",
    "        x = self.cnn1(inputs)\n",
    "        x = self.cnn2(x)\n",
    "        x = self.cnn3(x)\n",
    "        x = self.flatten(x)\n",
    "        x = self.dense1(x)\n",
    "        x = self.dense2(x)\n",
    "        return x"
   ]
  },
  {
   "cell_type": "code",
   "execution_count": 4,
   "metadata": {},
   "outputs": [
    {
     "name": "stderr",
     "output_type": "stream",
     "text": [
      "2024-04-01 00:28:02.799883: I tensorflow/stream_executor/cuda/cuda_gpu_executor.cc:925] could not open file to read NUMA node: /sys/bus/pci/devices/0000:01:00.0/numa_node\n",
      "Your kernel may have been built without NUMA support.\n",
      "2024-04-01 00:28:02.800643: W tensorflow/stream_executor/platform/default/dso_loader.cc:64] Could not load dynamic library 'libcudart.so.11.0'; dlerror: libcudart.so.11.0: cannot open shared object file: No such file or directory\n",
      "2024-04-01 00:28:02.800770: W tensorflow/stream_executor/platform/default/dso_loader.cc:64] Could not load dynamic library 'libcublas.so.11'; dlerror: libcublas.so.11: cannot open shared object file: No such file or directory\n",
      "2024-04-01 00:28:02.800851: W tensorflow/stream_executor/platform/default/dso_loader.cc:64] Could not load dynamic library 'libcublasLt.so.11'; dlerror: libcublasLt.so.11: cannot open shared object file: No such file or directory\n",
      "2024-04-01 00:28:02.800994: W tensorflow/stream_executor/platform/default/dso_loader.cc:64] Could not load dynamic library 'libcufft.so.10'; dlerror: libcufft.so.10: cannot open shared object file: No such file or directory\n",
      "2024-04-01 00:28:02.801081: W tensorflow/stream_executor/platform/default/dso_loader.cc:64] Could not load dynamic library 'libcurand.so.10'; dlerror: libcurand.so.10: cannot open shared object file: No such file or directory\n",
      "2024-04-01 00:28:02.801214: W tensorflow/stream_executor/platform/default/dso_loader.cc:64] Could not load dynamic library 'libcusolver.so.11'; dlerror: libcusolver.so.11: cannot open shared object file: No such file or directory\n",
      "2024-04-01 00:28:02.801310: W tensorflow/stream_executor/platform/default/dso_loader.cc:64] Could not load dynamic library 'libcusparse.so.11'; dlerror: libcusparse.so.11: cannot open shared object file: No such file or directory\n",
      "2024-04-01 00:28:02.801436: W tensorflow/stream_executor/platform/default/dso_loader.cc:64] Could not load dynamic library 'libcudnn.so.8'; dlerror: libcudnn.so.8: cannot open shared object file: No such file or directory\n",
      "2024-04-01 00:28:02.801566: W tensorflow/core/common_runtime/gpu/gpu_device.cc:1850] Cannot dlopen some GPU libraries. Please make sure the missing libraries mentioned above are installed properly if you would like to use GPU. Follow the guide at https://www.tensorflow.org/install/gpu for how to download and setup the required libraries for your platform.\n",
      "Skipping registering GPU devices...\n",
      "2024-04-01 00:28:02.804445: I tensorflow/core/platform/cpu_feature_guard.cc:151] This TensorFlow binary is optimized with oneAPI Deep Neural Network Library (oneDNN) to use the following CPU instructions in performance-critical operations:  AVX2 FMA\n",
      "To enable them in other operations, rebuild TensorFlow with the appropriate compiler flags.\n"
     ]
    }
   ],
   "source": [
    "# Load the custom CNN model\n",
    "custom_cnn_weights_path = \"/home/abhi/MP/saved_model/cnn.h5\"\n",
    "custom_cnn_model_loaded = MyModel()"
   ]
  },
  {
   "cell_type": "code",
   "execution_count": 5,
   "metadata": {},
   "outputs": [
    {
     "name": "stderr",
     "output_type": "stream",
     "text": [
      "2024-04-01 00:28:09.492324: W tensorflow/core/framework/cpu_allocator_impl.cc:82] Allocation of 1233256448 exceeds 10% of free system memory.\n",
      "2024-04-01 00:28:10.018212: W tensorflow/core/framework/cpu_allocator_impl.cc:82] Allocation of 1233256448 exceeds 10% of free system memory.\n",
      "2024-04-01 00:28:10.365263: W tensorflow/core/framework/cpu_allocator_impl.cc:82] Allocation of 1233256448 exceeds 10% of free system memory.\n",
      "2024-04-01 00:28:13.224718: W tensorflow/core/framework/cpu_allocator_impl.cc:82] Allocation of 1233256448 exceeds 10% of free system memory.\n"
     ]
    }
   ],
   "source": [
    "\n",
    "\n",
    "# Call the model to initialize its variables\n",
    "_ = custom_cnn_model_loaded(np.zeros((1, 200, 200, 3), dtype=np.float32))\n",
    "\n",
    "# Load weights into the custom CNN model\n",
    "custom_cnn_model_loaded.load_weights(custom_cnn_weights_path)\n",
    "\n",
    "# Freeze the layers of the custom CNN model\n",
    "for layer in custom_cnn_model_loaded.layers:\n",
    "    layer.trainable = False\n",
    "\n",
    "# Compile the custom CNN model\n"
   ]
  },
  {
   "cell_type": "code",
   "execution_count": 6,
   "metadata": {},
   "outputs": [
    {
     "name": "stdout",
     "output_type": "stream",
     "text": [
      "Epoch 1/10\n",
      "173/173 - 147s - loss: 0.4309 - accuracy: 0.8004 - val_loss: 0.4291 - val_accuracy: 0.7928 - 147s/epoch - 847ms/step\n",
      "Epoch 2/10\n",
      "173/173 - 138s - loss: 0.4312 - accuracy: 0.7944 - val_loss: 0.4267 - val_accuracy: 0.7933 - 138s/epoch - 797ms/step\n",
      "Epoch 3/10\n",
      "173/173 - 143s - loss: 0.4337 - accuracy: 0.7984 - val_loss: 0.4300 - val_accuracy: 0.7913 - 143s/epoch - 829ms/step\n",
      "Epoch 4/10\n",
      "173/173 - 154s - loss: 0.4289 - accuracy: 0.7964 - val_loss: 0.4296 - val_accuracy: 0.7923 - 154s/epoch - 893ms/step\n",
      "Epoch 5/10\n",
      "173/173 - 164s - loss: 0.4254 - accuracy: 0.7973 - val_loss: 0.4300 - val_accuracy: 0.7923 - 164s/epoch - 951ms/step\n",
      "Epoch 6/10\n",
      "173/173 - 174s - loss: 0.4301 - accuracy: 0.8024 - val_loss: 0.4278 - val_accuracy: 0.7933 - 174s/epoch - 1s/step\n",
      "Epoch 7/10\n",
      "173/173 - 161s - loss: 0.4328 - accuracy: 0.7948 - val_loss: 0.4286 - val_accuracy: 0.7928 - 161s/epoch - 928ms/step\n",
      "Epoch 8/10\n",
      "173/173 - 162s - loss: 0.4294 - accuracy: 0.7942 - val_loss: 0.4303 - val_accuracy: 0.7918 - 162s/epoch - 935ms/step\n",
      "Epoch 9/10\n",
      "173/173 - 157s - loss: 0.4262 - accuracy: 0.8046 - val_loss: 0.4290 - val_accuracy: 0.7923 - 157s/epoch - 908ms/step\n",
      "Epoch 10/10\n",
      "173/173 - 162s - loss: 0.4336 - accuracy: 0.7939 - val_loss: 0.4275 - val_accuracy: 0.7923 - 162s/epoch - 936ms/step\n"
     ]
    }
   ],
   "source": [
    "custom_cnn_model_loaded.compile(optimizer='adam', loss='binary_crossentropy', metrics=['accuracy'])\n",
    "\n",
    "# Train the custom CNN model for 10 additional epochs\n",
    "num_epochs = 10\n",
    "custom_cnn_history = custom_cnn_model_loaded.fit(train_generator,\n",
    "                                                 steps_per_epoch=train_generator.samples // train_generator.batch_size,\n",
    "                                                 epochs=num_epochs,\n",
    "                                                 validation_data=test_generator,\n",
    "                                                 validation_steps=test_generator.samples // test_generator.batch_size,\n",
    "                                                 verbose=2)\n"
   ]
  },
  {
   "cell_type": "code",
   "execution_count": 7,
   "metadata": {},
   "outputs": [
    {
     "name": "stdout",
     "output_type": "stream",
     "text": [
      "{'loss': [0.4308687448501587, 0.43117132782936096, 0.4337040185928345, 0.42888620495796204, 0.42543694376945496, 0.43009045720100403, 0.43283048272132874, 0.4293612837791443, 0.42620158195495605, 0.43363896012306213], 'accuracy': [0.8003981113433838, 0.7944263219833374, 0.7984075546264648, 0.7964169383049011, 0.7973217368125916, 0.8023887276649475, 0.7947883009910583, 0.7942453622817993, 0.8045602440834045, 0.7938834428787231], 'val_loss': [0.42908012866973877, 0.4267394542694092, 0.4299986958503723, 0.4296085238456726, 0.4299708604812622, 0.42777442932128906, 0.42857369780540466, 0.4302809238433838, 0.428982138633728, 0.42747437953948975], 'val_accuracy': [0.7928427457809448, 0.7933467626571655, 0.7913306355476379, 0.7923387289047241, 0.7923387289047241, 0.7933467626571655, 0.7928427457809448, 0.7918346524238586, 0.7923387289047241, 0.7923387289047241]}\n"
     ]
    }
   ],
   "source": [
    "print(custom_cnn_history.history)"
   ]
  },
  {
   "cell_type": "code",
   "execution_count": 9,
   "metadata": {},
   "outputs": [],
   "source": [
    "cnn_history = {\n",
    "    \"accuracy\": [0.5206, 0.5794, 0.6334, 0.6922, 0.7148, 0.7401, 0.7429, 0.7463, 0.7584, 0.7495, 0.7524, 0.7568, 0.7693, 0.7606, 0.7740, 0.7667, 0.7657, 0.7669, 0.7673, 0.7789, 0.7742, 0.7771, 0.7819, 0.7781, 0.7801, 0.7852, 0.7861, 0.7816, 0.7805, 0.7850, 0.7877, 0.7895, 0.7879, 0.7792, 0.7845, 0.7870, 0.7886, 0.7915, 0.7933, 0.7921, 0.7968, 0.7910, 0.7847, 0.7952, 0.7948, 0.7926, 0.7923, 0.7942,0.8003981113433838, 0.7944263219833374, 0.7984075546264648, 0.7964169383049011, 0.7973217368125916, 0.8023887276649475, 0.7947883009910583, 0.7942453622817993, 0.8045602440834045, 0.7938834428787231],\n",
    "    \"loss\": [2.2088, 0.6826, 0.6427, 0.5703, 0.5430, 0.5138, 0.5076, 0.5019, 0.4912, 0.4901, 0.4917, 0.4865, 0.4746, 0.4776, 0.4657, 0.4670, 0.4652, 0.4618, 0.4653, 0.4519, 0.4634, 0.4539, 0.4468, 0.4545, 0.4482, 0.4538, 0.4495, 0.4527, 0.4525, 0.4504, 0.4402, 0.4322, 0.4385, 0.4401, 0.4461, 0.4392, 0.4359, 0.4378, 0.4366, 0.4281, 0.4314, 0.4279, 0.4295, 0.4438, 0.4320, 0.4289, 0.4240, 0.4309, 0.4277,0.4308687448501587, 0.43117132782936096, 0.4337040185928345, 0.42888620495796204, 0.42543694376945496, 0.43009045720100403, 0.43283048272132874, 0.4293612837791443, 0.42620158195495605, 0.43363896012306213]\n",
    "}"
   ]
  },
  {
   "cell_type": "code",
   "execution_count": 25,
   "metadata": {},
   "outputs": [],
   "source": [
    "cnn_history = {\n",
    "    \"accuracy\": [\n",
    "    0.5206, 0.5794, 0.6334, 0.6922, 0.7148, 0.7401, 0.7429, 0.7463, 0.7584, 0.7495,\n",
    "    0.7524, 0.7568, 0.7693, 0.7606, 0.7740, 0.7667, 0.7657, 0.7669, 0.7673, 0.7789,\n",
    "    0.7742, 0.7771, 0.7819, 0.7781, 0.7801, 0.7852, 0.7861, 0.7816, 0.7805, 0.7850,\n",
    "    0.7877, 0.7895, 0.7879, 0.7792, 0.7845, 0.7870, 0.7886, 0.7915, 0.7933, 0.7921,\n",
    "    0.7968, 0.7910, 0.7847, 0.7952, 0.7948, 0.7926, 0.7923, 0.7942, 0.800398111, 0.794426322,\n",
    "    0.798407555, 0.796416938, 0.7886, 0.7915, 0.7933, 0.7921, 0.7968, 0.7910, 0.7923, 0.7933\n",
    "],\n",
    "    \"loss\": [2.2088, 0.6826, 0.6427, 0.5703, 0.5430, 0.5138, 0.5076, 0.5019, 0.4912, 0.4901, 0.4917, 0.4865, 0.4746, 0.4776, 0.4657, 0.4670, 0.4652, 0.4618, 0.4653, 0.4519, 0.4634, 0.4539, 0.4468, 0.4545, 0.4482, 0.4538, 0.4495, 0.4527, 0.4525, 0.4504, 0.4402, 0.4322, 0.4385, 0.4401, 0.4461, 0.4392, 0.4359, 0.4378, 0.4366, 0.4281, 0.4314, 0.4279, 0.4295, 0.4438, 0.4320, 0.4289, 0.4240, 0.4309, 0.4277,0.4308687448501587, 0.43117132782936096, 0.4337040185928345, 0.42888620495796204, 0.42543694376945496, 0.43009045720100403, 0.43283048272132874, 0.4293612837791443, 0.42620158195495605, 0.43363896012306213]\n",
    "}"
   ]
  },
  {
   "cell_type": "code",
   "execution_count": 24,
   "metadata": {},
   "outputs": [
    {
     "name": "stdout",
     "output_type": "stream",
     "text": [
      "Length of accuracy array: 52\n",
      "Length of loss array: 59\n"
     ]
    }
   ],
   "source": [
    "# cnn_history = {\n",
    "#     \"accuracy\": [0.5206, 0.5794, 0.6334, 0.6922, 0.7148, 0.7401, 0.7429, 0.7463, 0.7584, 0.7495, 0.7524, 0.7568, 0.7693, 0.7606, 0.7740, 0.7667, 0.7657, 0.7669, 0.7673, 0.7789, 0.7742, 0.7771, 0.7819, 0.7781, 0.7801, 0.7852, 0.7861, 0.7816, 0.7805, 0.7850, 0.7877, 0.7895, 0.7879, 0.7792, 0.7845, 0.7870, 0.7886, 0.7915, 0.7933, 0.7921, 0.7968, 0.7910, 0.7847, 0.7952, 0.7948, 0.7926, 0.7923, 0.7942],\n",
    "#     \"loss\": [2.2088, 0.6826, 0.6427, 0.5703, 0.5430, 0.5138, 0.5076, 0.5019, 0.4912, 0.4901, 0.4917, 0.4865, 0.4746, 0.4776, 0.4657, 0.4670, 0.4652, 0.4618, 0.4653, 0.4519, 0.4634, 0.4539, 0.4468, 0.4545, 0.4482, 0.4538, 0.4495, 0.4527, 0.4525, 0.4504, 0.4402, 0.4322, 0.4385, 0.4401, 0.4461, 0.4392, 0.4359, 0.4378, 0.4366, 0.4281, 0.4314, 0.4279, 0.4295, 0.4438, 0.4320, 0.4289, 0.4240, 0.4309, 0.4277]\n",
    "# }\n",
    "\n",
    "# Count the length of accuracy and loss arrays\n",
    "accuracy_length = len(cnn_history['accuracy'])\n",
    "loss_length = len(cnn_history['loss'])\n",
    "\n",
    "# Print the lengths\n",
    "print(\"Length of accuracy array:\", accuracy_length)\n",
    "print(\"Length of loss array:\", loss_length)\n"
   ]
  },
  {
   "cell_type": "code",
   "execution_count": 21,
   "metadata": {},
   "outputs": [],
   "source": [
    "import csv\n",
    "\n",
    "# Writing CNN history to a CSV file\n",
    "with open('cnn_history.csv', 'w', newline='') as csvfile:\n",
    "    writer = csv.writer(csvfile)\n",
    "    writer.writerow(['Accuracy', 'Loss'])\n",
    "    writer.writerows(zip(cnn_history['accuracy'], cnn_history['loss']))\n",
    "\n",
    "# # Writing VGG history to a CSV file\n",
    "# with open('vgg_history.csv', 'w', newline='') as csvfile:\n",
    "#     writer = csv.writer(csvfile)\n",
    "#     writer.writerow(['Accuracy', 'Loss'])\n",
    "#     writer.writerows(zip(vgg_history['accuracy'], vgg_history['loss']))"
   ]
  },
  {
   "cell_type": "code",
   "execution_count": 26,
   "metadata": {},
   "outputs": [
    {
     "data": {
      "image/png": "[encoded data removed]",
      "text/plain": [
       "<Figure size 640x480 with 1 Axes>"
      ]
     },
     "metadata": {},
     "output_type": "display_data"
    }
   ],
   "source": [
    "import matplotlib.pyplot as plt\n",
    "\n",
    "# Define the number of epochs\n",
    "epochs = range(1, len(cnn_history['accuracy']) + 1)\n",
    "\n",
    "# Plot accuracy\n",
    "plt.plot(epochs, cnn_history['accuracy'], label='Training Accuracy')\n",
    "plt.title('Training Accuracy')\n",
    "plt.xlabel('Epochs')\n",
    "plt.ylabel('Accuracy')\n",
    "plt.legend()\n",
    "plt.show()\n",
    "\n",
    "# # Plot loss\n",
    "# plt.plot(epochs, cnn_history['loss'][:-1], label='Training Loss')\n",
    "# plt.title('Training Loss')\n",
    "# plt.xlabel('Epochs')\n",
    "# plt.ylabel('Loss')\n",
    "# plt.legend()\n",
    "# plt.show()\n"
   ]
  },
  {
   "cell_type": "code",
   "execution_count": 15,
   "metadata": {},
   "outputs": [
    {
     "name": "stdout",
     "output_type": "stream",
     "text": [
      "Length of epochs: 58\n",
      "Length of accuracy: 58\n",
      "Length of loss: 59\n"
     ]
    }
   ],
   "source": [
    "print(\"Length of epochs:\", len(epochs))\n",
    "print(\"Length of accuracy:\", len(cnn_history['accuracy']))\n",
    "print(\"Length of loss:\", len(cnn_history['loss']))\n"
   ]
  },
  {
   "cell_type": "code",
   "execution_count": 5,
   "metadata": {},
   "outputs": [
    {
     "name": "stderr",
     "output_type": "stream",
     "text": [
      "2024-04-01 02:00:02.909425: I tensorflow/stream_executor/cuda/cuda_gpu_executor.cc:925] could not open file to read NUMA node: /sys/bus/pci/devices/0000:01:00.0/numa_node\n",
      "Your kernel may have been built without NUMA support.\n",
      "2024-04-01 02:00:02.909687: W tensorflow/stream_executor/platform/default/dso_loader.cc:64] Could not load dynamic library 'libcudart.so.11.0'; dlerror: libcudart.so.11.0: cannot open shared object file: No such file or directory\n",
      "2024-04-01 02:00:02.909854: W tensorflow/stream_executor/platform/default/dso_loader.cc:64] Could not load dynamic library 'libcublas.so.11'; dlerror: libcublas.so.11: cannot open shared object file: No such file or directory\n",
      "2024-04-01 02:00:02.909940: W tensorflow/stream_executor/platform/default/dso_loader.cc:64] Could not load dynamic library 'libcublasLt.so.11'; dlerror: libcublasLt.so.11: cannot open shared object file: No such file or directory\n",
      "2024-04-01 02:00:02.910017: W tensorflow/stream_executor/platform/default/dso_loader.cc:64] Could not load dynamic library 'libcufft.so.10'; dlerror: libcufft.so.10: cannot open shared object file: No such file or directory\n",
      "2024-04-01 02:00:02.910088: W tensorflow/stream_executor/platform/default/dso_loader.cc:64] Could not load dynamic library 'libcurand.so.10'; dlerror: libcurand.so.10: cannot open shared object file: No such file or directory\n",
      "2024-04-01 02:00:02.910157: W tensorflow/stream_executor/platform/default/dso_loader.cc:64] Could not load dynamic library 'libcusolver.so.11'; dlerror: libcusolver.so.11: cannot open shared object file: No such file or directory\n",
      "2024-04-01 02:00:02.910226: W tensorflow/stream_executor/platform/default/dso_loader.cc:64] Could not load dynamic library 'libcusparse.so.11'; dlerror: libcusparse.so.11: cannot open shared object file: No such file or directory\n",
      "2024-04-01 02:00:02.910299: W tensorflow/stream_executor/platform/default/dso_loader.cc:64] Could not load dynamic library 'libcudnn.so.8'; dlerror: libcudnn.so.8: cannot open shared object file: No such file or directory\n",
      "2024-04-01 02:00:02.910315: W tensorflow/core/common_runtime/gpu/gpu_device.cc:1850] Cannot dlopen some GPU libraries. Please make sure the missing libraries mentioned above are installed properly if you would like to use GPU. Follow the guide at https://www.tensorflow.org/install/gpu for how to download and setup the required libraries for your platform.\n",
      "Skipping registering GPU devices...\n",
      "2024-04-01 02:00:02.911056: I tensorflow/core/platform/cpu_feature_guard.cc:151] This TensorFlow binary is optimized with oneAPI Deep Neural Network Library (oneDNN) to use the following CPU instructions in performance-critical operations:  AVX2 FMA\n",
      "To enable them in other operations, rebuild TensorFlow with the appropriate compiler flags.\n"
     ]
    }
   ],
   "source": [
    "# Load VGG-16 base model\n",
    "base_model = VGG16(weights='imagenet', include_top=False, input_shape=(200, 200, 3))\n",
    "\n",
    "# Freeze VGG-16 layers\n",
    "for layer in base_model.layers:\n",
    "    layer.trainable = False\n",
    "\n",
    "# Create a new model on top of the VGG-16 base\n",
    "x = Flatten()(base_model.output)\n",
    "x = Dense(512, activation='relu')(x)\n",
    "predictions = Dense(1, activation='sigmoid')(x)\n",
    "vgg_model = Model(inputs=base_model.input, outputs=predictions)\n",
    "\n"
   ]
  },
  {
   "cell_type": "code",
   "execution_count": 9,
   "metadata": {},
   "outputs": [],
   "source": [
    "vgg_model_loaded = load_model('/home/abhi/MP/saved_model/VGG16_merged_model_new.h5')\n"
   ]
  },
  {
   "cell_type": "code",
   "execution_count": 10,
   "metadata": {},
   "outputs": [
    {
     "name": "stdout",
     "output_type": "stream",
     "text": [
      "Epoch 1/10\n"
     ]
    },
    {
     "name": "stderr",
     "output_type": "stream",
     "text": [
      "2024-04-01 02:00:53.827849: W tensorflow/core/framework/cpu_allocator_impl.cc:82] Allocation of 655360000 exceeds 10% of free system memory.\n",
      "2024-04-01 02:00:54.088504: W tensorflow/core/framework/cpu_allocator_impl.cc:82] Allocation of 655360000 exceeds 10% of free system memory.\n",
      "2024-04-01 02:01:02.238300: W tensorflow/core/framework/cpu_allocator_impl.cc:82] Allocation of 655360000 exceeds 10% of free system memory.\n",
      "2024-04-01 02:01:02.484590: W tensorflow/core/framework/cpu_allocator_impl.cc:82] Allocation of 655360000 exceeds 10% of free system memory.\n",
      "2024-04-01 02:01:12.281782: W tensorflow/core/framework/cpu_allocator_impl.cc:82] Allocation of 655360000 exceeds 10% of free system memory.\n"
     ]
    },
    {
     "name": "stdout",
     "output_type": "stream",
     "text": [
      "86/86 - 1359s - loss: 0.8085 - accuracy: 0.6509 - val_loss: 0.5615 - val_accuracy: 0.7349 - 1359s/epoch - 16s/step\n",
      "Epoch 2/10\n",
      "86/86 - 1186s - loss: 0.5525 - accuracy: 0.7248 - val_loss: 0.5415 - val_accuracy: 0.7445 - 1186s/epoch - 14s/step\n",
      "Epoch 3/10\n",
      "86/86 - 994s - loss: 0.5323 - accuracy: 0.7372 - val_loss: 0.5186 - val_accuracy: 0.7379 - 994s/epoch - 12s/step\n",
      "Epoch 4/10\n",
      "86/86 - 57549s - loss: 0.5140 - accuracy: 0.7448 - val_loss: 0.6293 - val_accuracy: 0.6502 - 57549s/epoch - 669s/step\n",
      "Epoch 5/10\n",
      "86/86 - 939s - loss: 0.5030 - accuracy: 0.7499 - val_loss: 0.6475 - val_accuracy: 0.7097 - 939s/epoch - 11s/step\n",
      "Epoch 6/10\n",
      "86/86 - 932s - loss: 0.4736 - accuracy: 0.7745 - val_loss: 0.5440 - val_accuracy: 0.7152 - 932s/epoch - 11s/step\n",
      "Epoch 7/10\n",
      "86/86 - 949s - loss: 0.4517 - accuracy: 0.7849 - val_loss: 0.4818 - val_accuracy: 0.7722 - 949s/epoch - 11s/step\n",
      "Epoch 8/10\n",
      "86/86 - 1007s - loss: 0.4682 - accuracy: 0.7783 - val_loss: 0.5101 - val_accuracy: 0.7681 - 1007s/epoch - 12s/step\n",
      "Epoch 9/10\n",
      "86/86 - 8947s - loss: 0.4455 - accuracy: 0.7907 - val_loss: 0.4639 - val_accuracy: 0.7979 - 8947s/epoch - 104s/step\n",
      "Epoch 10/10\n",
      "86/86 - 1008s - loss: 0.4325 - accuracy: 0.8045 - val_loss: 0.5066 - val_accuracy: 0.7485 - 1008s/epoch - 12s/step\n"
     ]
    }
   ],
   "source": [
    "# Compile the VGG model\n",
    "vgg_model.compile(optimizer=Adam(), loss='binary_crossentropy', metrics=['accuracy'])\n",
    "\n",
    "# Train the VGG model for 10 additional epochs\n",
    "vgg_history = vgg_model.fit(train_generator,\n",
    "                            steps_per_epoch=train_generator.samples // train_generator.batch_size,\n",
    "                            epochs=10,\n",
    "                            validation_data=test_generator,\n",
    "                            validation_steps=test_generator.samples // test_generator.batch_size,\n",
    "                            verbose=2)\n"
   ]
  },
  {
   "cell_type": "code",
   "execution_count": null,
   "metadata": {},
   "outputs": [],
   "source": [
    "\n",
    "# Print the training history\n",
    "print(custom_cnn_history.history)\n",
    "print(vgg_history.history)\n"
   ]
  }
 ],
 "metadata": {
  "kernelspec": {
   "display_name": ".env",
   "language": "python",
   "name": "python3"
  },
  "language_info": {
   "codemirror_mode": {
    "name": "ipython",
    "version": 3
   },
   "file_extension": ".py",
   "mimetype": "text/x-python",
   "name": "python",
   "nbconvert_exporter": "python",
   "pygments_lexer": "ipython3",
   "version": "3.9.5"
  }
 },
 "nbformat": 4,
 "nbformat_minor": 2
}
